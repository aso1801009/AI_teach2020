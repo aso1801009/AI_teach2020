{
  "nbformat": 4,
  "nbformat_minor": 0,
  "metadata": {
    "colab": {
      "name": "and.ipynb",
      "provenance": [],
      "collapsed_sections": [],
      "authorship_tag": "ABX9TyO6nJpn1uJj4lDJKYArxJQf",
      "include_colab_link": true
    },
    "kernelspec": {
      "name": "python3",
      "display_name": "Python 3"
    }
  },
  "cells": [
    {
      "cell_type": "markdown",
      "metadata": {
        "id": "view-in-github",
        "colab_type": "text"
      },
      "source": [
        "<a href=\"https://colab.research.google.com/github/aso1801009/AI_teach2020/blob/master/and.ipynb\" target=\"_parent\"><img src=\"https://colab.research.google.com/assets/colab-badge.svg\" alt=\"Open In Colab\"/></a>"
      ]
    },
    {
      "cell_type": "markdown",
      "metadata": {
        "id": "CFz8Sc-bqRSx"
      },
      "source": [
        "### AND演算モデルに学ばせる(LinearSVC)"
      ]
    },
    {
      "cell_type": "code",
      "metadata": {
        "id": "AaLKDzjOqFP3"
      },
      "source": [
        "# scikit-learnを使うために、インポートする\n",
        "from sklearn.svm import LinearSVC\n",
        "from sklearn.metrics import accuracy_score#結果を評価するためのオブジェクト"
      ],
      "execution_count": null,
      "outputs": []
    },
    {
      "cell_type": "markdown",
      "metadata": {
        "id": "ZeKutwKbrkjf"
      },
      "source": [
        "###学習のためのデータを用意する"
      ]
    },
    {
      "cell_type": "code",
      "metadata": {
        "id": "TyW1joEyrgQD"
      },
      "source": [
        "#入力値を表すデータ\n",
        "#入力X,入力Y\n",
        "learn_data = [[0,0],[1,0],[1,1],[0,1]]\n",
        "#(XとYのand)結果\n",
        "learn_label = [0,0,1,0]\n"
      ],
      "execution_count": null,
      "outputs": []
    },
    {
      "cell_type": "markdown",
      "metadata": {
        "id": "0g_GTzuUs9K2"
      },
      "source": [
        "###アルゴリズムのインスタンスを生成"
      ]
    },
    {
      "cell_type": "code",
      "metadata": {
        "id": "Zs66jFjAtCMi"
      },
      "source": [
        "### 線形SVCのインスタンスを作成\n",
        "clf = LinearSVC()"
      ],
      "execution_count": null,
      "outputs": []
    },
    {
      "cell_type": "markdown",
      "metadata": {
        "id": "Wxbrpxy1tS_f"
      },
      "source": [
        "###モデルに学習させる(fitメソッド)"
      ]
    },
    {
      "cell_type": "code",
      "metadata": {
        "id": "2kFn-op6tPfM",
        "outputId": "92290267-28c5-4ee6-a2b3-e6193783f22a",
        "colab": {
          "base_uri": "https://localhost:8080/",
          "height": 87
        }
      },
      "source": [
        "clf.fit(learn_data,learn_label)"
      ],
      "execution_count": null,
      "outputs": [
        {
          "output_type": "execute_result",
          "data": {
            "text/plain": [
              "LinearSVC(C=1.0, class_weight=None, dual=True, fit_intercept=True,\n",
              "          intercept_scaling=1, loss='squared_hinge', max_iter=1000,\n",
              "          multi_class='ovr', penalty='l2', random_state=None, tol=0.0001,\n",
              "          verbose=0)"
            ]
          },
          "metadata": {
            "tags": []
          },
          "execution_count": 7
        }
      ]
    },
    {
      "cell_type": "markdown",
      "metadata": {
        "id": "Fx8TSFQ4uUML"
      },
      "source": [
        "###モデルがちゃんと学習できたか、テストデータで予測させてみる。"
      ]
    },
    {
      "cell_type": "code",
      "metadata": {
        "id": "uAfDBw8Ht6sH",
        "outputId": "30ad9173-0302-4b61-b84b-6990b053c570",
        "colab": {
          "base_uri": "https://localhost:8080/",
          "height": 69
        }
      },
      "source": [
        "###予測用のテストデータ(検証データ)を作る\n",
        "test_data = [[0,0],[1,0],[0,1],[1,1]]\n",
        "#モデルにテストデータを回答させる(予測)\n",
        "test_label = clf.predict(test_data)\n",
        "print(test_label)\n",
        "#予測結果の評価\n",
        "print(test_data,\"の予測結果\",test_label)\n",
        "#結果の制度を表示させる\n",
        "print(\"正解率=\",accuracy_score( [0,1,1,0],test_label))"
      ],
      "execution_count": null,
      "outputs": [
        {
          "output_type": "stream",
          "text": [
            "[0 0 0 1]\n",
            "[[0, 0], [1, 0], [0, 1], [1, 1]] の予測結果 [0 0 0 1]\n",
            "正解率= 0.25\n"
          ],
          "name": "stdout"
        }
      ]
    },
    {
      "cell_type": "markdown",
      "metadata": {
        "id": "scJcEWp-wSMn"
      },
      "source": [
        "XOR演算を実装する"
      ]
    },
    {
      "cell_type": "code",
      "metadata": {
        "id": "ibbasdexwVUa"
      },
      "source": [
        "#XOR演算を学習するためのデータを用意する\n",
        "#x.yの順\n",
        "learn_data = [[0, 0], [1, 0], [0, 1], [1, 1]] \n",
        "#x xor yの結果正解データ(学習ラベル)\n",
        "learn_label = [0,1,1,0]"
      ],
      "execution_count": null,
      "outputs": []
    },
    {
      "cell_type": "code",
      "metadata": {
        "id": "7ioQwFzTxJWU",
        "outputId": "8d076b32-782e-46c7-b08e-7ba2cfbd30a2",
        "colab": {
          "base_uri": "https://localhost:8080/",
          "height": 87
        }
      },
      "source": [
        "#学習モデルのインスタンスを作る(LinerSVC)\n",
        "clf = LinearSVC()\n",
        "#学習させる\n",
        "clf.fit(learn_data,learn_label)"
      ],
      "execution_count": null,
      "outputs": [
        {
          "output_type": "execute_result",
          "data": {
            "text/plain": [
              "LinearSVC(C=1.0, class_weight=None, dual=True, fit_intercept=True,\n",
              "          intercept_scaling=1, loss='squared_hinge', max_iter=1000,\n",
              "          multi_class='ovr', penalty='l2', random_state=None, tol=0.0001,\n",
              "          verbose=0)"
            ]
          },
          "metadata": {
            "tags": []
          },
          "execution_count": 10
        }
      ]
    },
    {
      "cell_type": "code",
      "metadata": {
        "id": "dOPX9rv3xqcx"
      },
      "source": [
        "#学習したモデルに推論させる\n",
        "test_data = [[0, 0], [1, 0], [0, 1], [1, 1] ]\n",
        "test_label = clf.predict(test_data)"
      ],
      "execution_count": null,
      "outputs": []
    },
    {
      "cell_type": "code",
      "metadata": {
        "id": "ouTIkd8TyOm7",
        "outputId": "937dfa05-64fc-4a90-a6bb-4146ee94f7e5",
        "colab": {
          "base_uri": "https://localhost:8080/",
          "height": 35
        }
      },
      "source": [
        "# 結果を検証する\n",
        "print(test_data,\"の予測結果\",test_label)"
      ],
      "execution_count": null,
      "outputs": [
        {
          "output_type": "stream",
          "text": [
            "[[0, 0], [1, 0], [0, 1], [1, 1]] の予測結果 [1 1 1 1]\n"
          ],
          "name": "stdout"
        }
      ]
    },
    {
      "cell_type": "markdown",
      "metadata": {
        "id": "xoFVhSBjZaHL"
      },
      "source": [
        "###  K近法でXOR演算を実装する"
      ]
    },
    {
      "cell_type": "code",
      "metadata": {
        "id": "7jj-OfXkZj9p"
      },
      "source": [
        "#k近傍法のアルゴリズムのクラスをimport\n",
        "from sklearn.neighbors import KNeighborsClassifier\n"
      ],
      "execution_count": null,
      "outputs": []
    },
    {
      "cell_type": "code",
      "metadata": {
        "id": "WSnbfme3aOWR"
      },
      "source": [
        "#学習モデルの変数clfをK近傍法アルゴリズムのインスタンスで上書き\n",
        "clf = KNeighborsClassfier(n_neighbors=1)"
      ],
      "execution_count": null,
      "outputs": []
    },
    {
      "cell_type": "code",
      "metadata": {
        "id": "u7yZld2faowl"
      },
      "source": [
        "#学習入力データ(learn_data)と結果用正解データ(learn_label)を使って学習\n",
        "clf.fit(learn_data,learn_label)"
      ],
      "execution_count": null,
      "outputs": []
    },
    {
      "cell_type": "code",
      "metadata": {
        "id": "-7DTBPkubNkO",
        "outputId": "8f378f6a-1609-4094-8cf8-08756d214aac",
        "colab": {
          "base_uri": "https://localhost:8080/",
          "height": 52
        }
      },
      "source": [
        "#テスト検証用データと答え合わせ用の正解データ([0,1,1,0])\n",
        "test_label = clf.predict(test_data)\n",
        "print(test_data,\"の予測(推論)結果\",test_label)\n",
        "print(\"正解率 = \",accuracy_score([0,1,1,0],test_label))"
      ],
      "execution_count": null,
      "outputs": [
        {
          "output_type": "stream",
          "text": [
            "[[0, 0], [1, 0], [0, 1], [1, 1]] の予測(推論)結果 [1 1 1 1]\n",
            "正解率 =  0.5\n"
          ],
          "name": "stdout"
        }
      ]
    },
    {
      "cell_type": "code",
      "metadata": {
        "id": "FxDPZSVpdqJC"
      },
      "source": [
        ""
      ],
      "execution_count": null,
      "outputs": []
    }
  ]
}