{
  "nbformat": 4,
  "nbformat_minor": 0,
  "metadata": {
    "colab": {
      "name": "20201009AI0205-selectAlgo.ipynb ",
      "provenance": [],
      "collapsed_sections": [],
      "include_colab_link": true
    },
    "kernelspec": {
      "name": "python3",
      "display_name": "Python 3"
    }
  },
  "cells": [
    {
      "cell_type": "markdown",
      "metadata": {
        "id": "view-in-github",
        "colab_type": "text"
      },
      "source": [
        "<a href=\"https://colab.research.google.com/github/aso1801009/AI_teach2020/blob/master/20201009AI0205_selectAlgo.ipynb\" target=\"_parent\"><img src=\"https://colab.research.google.com/assets/colab-badge.svg\" alt=\"Open In Colab\"/></a>"
      ]
    },
    {
      "cell_type": "markdown",
      "metadata": {
        "id": "cxCIKB-p4t7b"
      },
      "source": [
        "### sklearnでエラーが出るので、前のバージョンを入れなおす"
      ]
    },
    {
      "cell_type": "code",
      "metadata": {
        "id": "UJvkWvih40vN"
      },
      "source": [
        "# ## 現在のscikit-leran えおcolabのVMからアンインストール\n",
        "# !pip uninstall scikit-learn\n",
        "# ## 前のバージョンを指定してVMにインストール\n",
        "# !pip install scikit-learn==0.20 --ignore-installed"
      ],
      "execution_count": 1,
      "outputs": []
    },
    {
      "cell_type": "markdown",
      "metadata": {
        "id": "lhonyOxzzw2a"
      },
      "source": [
        "### all_estimators()でループして各種のアルゴリズムで学習させ、比較する"
      ]
    },
    {
      "cell_type": "code",
      "metadata": {
        "id": "ErMQT-vyzxWU",
        "outputId": "ea94871b-c639-48a1-981f-e4791eaf462e",
        "colab": {
          "base_uri": "https://localhost:8080/"
        }
      },
      "source": [
        "# ライブラリの読み込み\n",
        "import pandas as pd\n",
        "# 学習データとテスト検証用データを分割するライブラリ\n",
        "from sklearn.model_selection import train_test_split\n",
        "# 正解率を算出するライブラリ\n",
        "from sklearn.metrics import accuracy_score\n",
        "# all_estimators(推定期のすべてを利用できるようにする)\n",
        "from sklearn.utils.testing import all_estimators\n",
        "# 警告クラス\n",
        "import warnings"
      ],
      "execution_count": 2,
      "outputs": [
        {
          "output_type": "stream",
          "text": [
            "/usr/local/lib/python3.6/dist-packages/sklearn/utils/deprecation.py:144: FutureWarning: The sklearn.utils.testing module is  deprecated in version 0.22 and will be removed in version 0.24. The corresponding classes / functions should instead be imported from sklearn.utils. Anything that cannot be imported from sklearn.utils is now part of the private API.\n",
            "  warnings.warn(message, FutureWarning)\n"
          ],
          "name": "stderr"
        }
      ]
    },
    {
      "cell_type": "markdown",
      "metadata": {
        "id": "Z7BN5Nr0zSSo"
      },
      "source": [
        "### WEBからアヤメのデータを読み込む"
      ]
    },
    {
      "cell_type": "code",
      "metadata": {
        "id": "xLsslJQZjSF-",
        "outputId": "a3effd3d-9bcc-4692-98f5-368577e01a88",
        "colab": {
          "base_uri": "https://localhost:8080/",
          "height": 202
        }
      },
      "source": [
        "# urlリンクから読み込むライブラリ\n",
        "import urllib.request as req\n",
        "# url用の文字列変数を定義\n",
        "url = \"https://raw.githubusercontent.com/pandas-dev/pandas/master/pandas/tests/io/data/csv/iris.csv\"\n",
        "# リンクから保存するためのファイルを定義\n",
        "savefile = \"iris.csv\"\n",
        "# requestクラスを使ってurlからでーたをsavefileへコピーして保存\n",
        "req.urlretrieve(url, savefile)\n",
        "# pandasのread_csvメソッドを使ってCSVファイルを読み込む\n",
        "iris_data = pd.read_csv(savefile, encoding=\"utf-8\")\n",
        "iris_data.head()"
      ],
      "execution_count": 3,
      "outputs": [
        {
          "output_type": "execute_result",
          "data": {
            "text/html": [
              "<div>\n",
              "<style scoped>\n",
              "    .dataframe tbody tr th:only-of-type {\n",
              "        vertical-align: middle;\n",
              "    }\n",
              "\n",
              "    .dataframe tbody tr th {\n",
              "        vertical-align: top;\n",
              "    }\n",
              "\n",
              "    .dataframe thead th {\n",
              "        text-align: right;\n",
              "    }\n",
              "</style>\n",
              "<table border=\"1\" class=\"dataframe\">\n",
              "  <thead>\n",
              "    <tr style=\"text-align: right;\">\n",
              "      <th></th>\n",
              "      <th>SepalLength</th>\n",
              "      <th>SepalWidth</th>\n",
              "      <th>PetalLength</th>\n",
              "      <th>PetalWidth</th>\n",
              "      <th>Name</th>\n",
              "    </tr>\n",
              "  </thead>\n",
              "  <tbody>\n",
              "    <tr>\n",
              "      <th>0</th>\n",
              "      <td>5.1</td>\n",
              "      <td>3.5</td>\n",
              "      <td>1.4</td>\n",
              "      <td>0.2</td>\n",
              "      <td>Iris-setosa</td>\n",
              "    </tr>\n",
              "    <tr>\n",
              "      <th>1</th>\n",
              "      <td>4.9</td>\n",
              "      <td>3.0</td>\n",
              "      <td>1.4</td>\n",
              "      <td>0.2</td>\n",
              "      <td>Iris-setosa</td>\n",
              "    </tr>\n",
              "    <tr>\n",
              "      <th>2</th>\n",
              "      <td>4.7</td>\n",
              "      <td>3.2</td>\n",
              "      <td>1.3</td>\n",
              "      <td>0.2</td>\n",
              "      <td>Iris-setosa</td>\n",
              "    </tr>\n",
              "    <tr>\n",
              "      <th>3</th>\n",
              "      <td>4.6</td>\n",
              "      <td>3.1</td>\n",
              "      <td>1.5</td>\n",
              "      <td>0.2</td>\n",
              "      <td>Iris-setosa</td>\n",
              "    </tr>\n",
              "    <tr>\n",
              "      <th>4</th>\n",
              "      <td>5.0</td>\n",
              "      <td>3.6</td>\n",
              "      <td>1.4</td>\n",
              "      <td>0.2</td>\n",
              "      <td>Iris-setosa</td>\n",
              "    </tr>\n",
              "  </tbody>\n",
              "</table>\n",
              "</div>"
            ],
            "text/plain": [
              "   SepalLength  SepalWidth  PetalLength  PetalWidth         Name\n",
              "0          5.1         3.5          1.4         0.2  Iris-setosa\n",
              "1          4.9         3.0          1.4         0.2  Iris-setosa\n",
              "2          4.7         3.2          1.3         0.2  Iris-setosa\n",
              "3          4.6         3.1          1.5         0.2  Iris-setosa\n",
              "4          5.0         3.6          1.4         0.2  Iris-setosa"
            ]
          },
          "metadata": {
            "tags": []
          },
          "execution_count": 3
        }
      ]
    },
    {
      "cell_type": "markdown",
      "metadata": {
        "id": "junilOPx1haw"
      },
      "source": [
        "### アヤメデータを目的変数：ｙと説明変数：ｘに分類する"
      ]
    },
    {
      "cell_type": "code",
      "metadata": {
        "id": "eUledDqW1VRe",
        "outputId": "1be99306-0085-4df4-f8a9-949502c0f999",
        "colab": {
          "base_uri": "https://localhost:8080/"
        }
      },
      "source": [
        "y = iris_data.loc[:, \"Name\"] # 目的変数\n",
        "x = iris_data.loc[:, [\"SepalLength\", \"SepalWidth\", \"PetalLength\", \"PetalWidth\"]] # 説明変数\n",
        "\n",
        "print( y.head() )\n",
        "print( x.head() )"
      ],
      "execution_count": 4,
      "outputs": [
        {
          "output_type": "stream",
          "text": [
            "0    Iris-setosa\n",
            "1    Iris-setosa\n",
            "2    Iris-setosa\n",
            "3    Iris-setosa\n",
            "4    Iris-setosa\n",
            "Name: Name, dtype: object\n",
            "   SepalLength  SepalWidth  PetalLength  PetalWidth\n",
            "0          5.1         3.5          1.4         0.2\n",
            "1          4.9         3.0          1.4         0.2\n",
            "2          4.7         3.2          1.3         0.2\n",
            "3          4.6         3.1          1.5         0.2\n",
            "4          5.0         3.6          1.4         0.2\n"
          ],
          "name": "stdout"
        }
      ]
    },
    {
      "cell_type": "code",
      "metadata": {
        "id": "KJgzrD042CoY",
        "outputId": "f219bcec-7ff0-4195-ed56-8a9ac6f888ec",
        "colab": {
          "base_uri": "https://localhost:8080/"
        }
      },
      "source": [
        "# 学習用データ（train)とテスト検証用データ（test）に分離\n",
        "x_train, x_test, y_train, y_test = train_test_split(x, y, test_size=0.2, train_size=0.8, shuffle=True)\n",
        "print(x_train.head())\n",
        "print(x_train.head())\n",
        "print(x_test.head())"
      ],
      "execution_count": 5,
      "outputs": [
        {
          "output_type": "stream",
          "text": [
            "     SepalLength  SepalWidth  PetalLength  PetalWidth\n",
            "84           5.4         3.0          4.5         1.5\n",
            "92           5.8         2.6          4.0         1.2\n",
            "78           6.0         2.9          4.5         1.5\n",
            "82           5.8         2.7          3.9         1.2\n",
            "136          6.3         3.4          5.6         2.4\n",
            "     SepalLength  SepalWidth  PetalLength  PetalWidth\n",
            "84           5.4         3.0          4.5         1.5\n",
            "92           5.8         2.6          4.0         1.2\n",
            "78           6.0         2.9          4.5         1.5\n",
            "82           5.8         2.7          3.9         1.2\n",
            "136          6.3         3.4          5.6         2.4\n",
            "     SepalLength  SepalWidth  PetalLength  PetalWidth\n",
            "87           6.3         2.3          4.4         1.3\n",
            "2            4.7         3.2          1.3         0.2\n",
            "51           6.4         3.2          4.5         1.5\n",
            "110          6.5         3.2          5.1         2.0\n",
            "66           5.6         3.0          4.5         1.5\n"
          ],
          "name": "stdout"
        }
      ]
    },
    {
      "cell_type": "markdown",
      "metadata": {
        "id": "y7VjiOne2yKE"
      },
      "source": [
        "### allAlgorithmsにcclassifierを指定して「分類」でフィルターしたアルゴリズムの推定期群を取得する"
      ]
    },
    {
      "cell_type": "code",
      "metadata": {
        "id": "HdSc2QiU2mmH",
        "outputId": "f24ec1a0-127c-4ead-b5d8-254c69f0a342",
        "colab": {
          "base_uri": "https://localhost:8080/"
        }
      },
      "source": [
        "# 水滴のリストをフィルター指定して取得\n",
        "allAlgorithms = all_estimators(type_filter=\"classifier\")\n",
        "# ワーニングを無視する\n",
        "warnings.filterwarnings('ignore')"
      ],
      "execution_count": 6,
      "outputs": [
        {
          "output_type": "stream",
          "text": [
            "/usr/local/lib/python3.6/dist-packages/sklearn/externals/joblib/__init__.py:15: FutureWarning: sklearn.externals.joblib is deprecated in 0.21 and will be removed in 0.23. Please import this functionality directly from joblib, which can be installed with: pip install joblib. If this warning is raised when loading pickled models, you may need to re-serialize those models with scikit-learn 0.21+.\n",
            "  warnings.warn(msg, category=FutureWarning)\n"
          ],
          "name": "stderr"
        }
      ]
    },
    {
      "cell_type": "markdown",
      "metadata": {
        "id": "ZcDHxeTD4fX1"
      },
      "source": [
        "### 推定期のリストをループしながら学習＆推論させる"
      ]
    },
    {
      "cell_type": "code",
      "metadata": {
        "id": "CWVYA5-73C3h",
        "outputId": "d1a3db25-9376-4fb9-e064-6f8172cf0848",
        "colab": {
          "base_uri": "https://localhost:8080/",
          "height": 132
        }
      },
      "source": [
        "for(name,algorithm) in allAlgorithms:\n",
        "  #各アルゴリズムのオブジェクトを生成\n",
        "  clf = algorithm() # 各アルゴリズムクラスのコンストラクトを実行\n",
        "  #　学習させる\n",
        " clf.fit(x_train,y_train)\n",
        "  # 推論する\n",
        "  y_pred = clf.predict(x_test)\n",
        "  # accuracy_scoreで正解率を算出して表示\n",
        "  print(name,\"正解率 = \",accuracy_score(y_test,y_pred) )\n"
      ],
      "execution_count": 8,
      "outputs": [
        {
          "output_type": "error",
          "ename": "IndentationError",
          "evalue": "ignored",
          "traceback": [
            "\u001b[0;36m  File \u001b[0;32m\"<ipython-input-8-45014409e5b4>\"\u001b[0;36m, line \u001b[0;32m5\u001b[0m\n\u001b[0;31m    clf.fit(x_train,y_train)\u001b[0m\n\u001b[0m                            ^\u001b[0m\n\u001b[0;31mIndentationError\u001b[0m\u001b[0;31m:\u001b[0m unindent does not match any outer indentation level\n"
          ]
        }
      ]
    },
    {
      "cell_type": "markdown",
      "metadata": {
        "id": "KwRjPzMFmExN"
      },
      "source": [
        "### クロスバリデーション"
      ]
    },
    {
      "cell_type": "markdown",
      "metadata": {
        "id": "zgmv4IEpmJBC"
      },
      "source": [
        "クロスバリデーション関連のライブラリのインポート"
      ]
    },
    {
      "cell_type": "code",
      "metadata": {
        "id": "3IAuIQBH4HhZ"
      },
      "source": [
        "# ライブラリのインポート\n",
        "# 分割クロスバリデーション\n",
        "from sklearn.model_selection import KFold\n",
        "# クロスバリデーションスコアを取得す流ためのコード\n",
        "from sklearn.model_selection import cross_val_score"
      ],
      "execution_count": null,
      "outputs": []
    },
    {
      "cell_type": "markdown",
      "metadata": {
        "id": "gF211PZxmxTm"
      },
      "source": [
        "クロスバリデーションを実行する"
      ]
    },
    {
      "cell_type": "code",
      "metadata": {
        "id": "gtb2z4QtmrKs"
      },
      "source": [
        "# K分割考査検証\n",
        "kfold_cv = KFold(n_splits=5, shuffle=True)\n",
        "# すでに生成してあるall_estimatorsのインスタンスをループさせて、クロスバリデーションを行う\n",
        "for( name, algorithms ) in allAlgorithms:\n",
        "  try:\n",
        "    # 各アルゴリズムのインスタンスを取得\n",
        "    clf = algorithm()\n",
        "    # scoreの属性がある学習モデルだけに絞る\n",
        "    if hasattr( clf, \"score\" ):\n",
        "      # クロスバリデーションをしてスコアを取得する\n",
        "      scores = cross_val_score(clf,x,y, cv=kfold_cv)\n",
        "      #　k=n_splits=5 回文のクロスバリデーションのスコアを表示\n",
        "      print( name, \"の正解率\" )\n",
        "      print( scores )\n",
        "    # ifブロックの終了\n",
        "  # tryブロックの終了\n",
        "  except: # 例外処理ブロック\n",
        "    # 何もしない\n",
        "    pass"
      ],
      "execution_count": null,
      "outputs": []
    },
    {
      "cell_type": "markdown",
      "metadata": {
        "id": "_zY_yQbjrlOR"
      },
      "source": [
        "### おまけ:cross_val_scoreもっと詳しい結果を取得できる新しいクロスバリデーションオブジェクト:cross_validate"
      ]
    },
    {
      "cell_type": "code",
      "metadata": {
        "id": "nCYXmsdpozvA"
      },
      "source": [
        "# ライブラリのインポート\n",
        "from sklearn.model_selection import cross_validate"
      ],
      "execution_count": null,
      "outputs": []
    },
    {
      "cell_type": "markdown",
      "metadata": {
        "id": "HTqSap83sFyI"
      },
      "source": [
        "### 　cross_validateを使ったクロスバリデーション"
      ]
    },
    {
      "cell_type": "code",
      "metadata": {
        "id": "bb0SlS1XsAjX"
      },
      "source": [
        "# K分割考査検証\n",
        "kfold_cv = KFold(n_splits=5, shuffle=True)\n",
        "# すでに生成してあるall_estimatorsのインスタンスをループさせて、クロスバリデーションを行う\n",
        "for( name, algorithms ) in allAlgorithms:\n",
        "  try:\n",
        "    # 各アルゴリズムのインスタンスを取得\n",
        "    clf = algorithm()\n",
        "    # scoreの属性がある学習モデルだけに絞る\n",
        "    if hasattr( clf, \"score\" ):\n",
        "      # クロスバリデーションをしてスコアを取得する\n",
        "      scores = cross_validate(clf,x,y, cv=kfold_cv)\n",
        "      #　k=n_splits=5 回文のクロスバリデーションのスコアを表示\n",
        "      print( name, \"の正解率\" )\n",
        "      print( scores )\n",
        "    # ifブロックの終了\n",
        "  # tryブロックの終了\n",
        "  except: # 例外処理ブロック\n",
        "    # 何もしない\n",
        "    pass"
      ],
      "execution_count": null,
      "outputs": []
    },
    {
      "cell_type": "markdown",
      "metadata": {
        "id": "B1MTpCuC7hxT"
      },
      "source": [
        "### グリッドサーチ"
      ]
    },
    {
      "cell_type": "markdown",
      "metadata": {
        "id": "aadGIm3N7nVv"
      },
      "source": [
        ""
      ]
    },
    {
      "cell_type": "code",
      "metadata": {
        "id": "YEZHVLM1sWv2"
      },
      "source": [
        "from sklearn.model_selection import GridSearchCV\n",
        "# SVCアルゴリズムの学習モデルをimport\n",
        "from sklearn.svm import SVC"
      ],
      "execution_count": null,
      "outputs": []
    },
    {
      "cell_type": "code",
      "metadata": {
        "id": "8WmTic_38zx1"
      },
      "source": [
        "parameters = [\n",
        "              # 3つのパラメータ、３パターン\n",
        "              {\"C\":[1,10,100,1000],\"kernel\":[\"linear\"]}, \n",
        "              {\"C\":[1,10,100,1000],\"kernel\":[\"rbf\"], \"gamma\":[0.001,0.0001]}, \n",
        "              {\"C\":[1,10,100,1000],\"kernel\":[\"sigmoid\"], \"gamma\":[0.001,0.0001]},\n",
        "]\n",
        "\n",
        "# 普通の学習\n",
        "clf = SVC()\n",
        "clf.fit(x_train, y_train)\n",
        "y_pred = clf.predict(x_test)\n",
        "print(\"普通の学習の正解率 = \", accuracy_score(y_test, y_pred))\n",
        "\n",
        "# グリッドサーチを行う\n",
        "# K分割考査検証用のインスタンスを生成する\n",
        "kfold_cv = KFold( n_splits=5, shuffle=True )\n",
        "#　グリッドサーチのなかでK分割考査検証も行われる\n",
        "clf_gird = GridSearchCV( SVC(), parameters, cv=kfold_cv )\n",
        "clf_gird.fit(x_train, y_train)# 学習\n",
        "# 学習ズミのモデルに最終的に設定されたパラメータを表示\n",
        "print(\"最適なパラメーター　= \", clf_gird.best_estimator_)\n",
        "\n",
        "# 最適なパラメーター設定ズミの学習モデルで評価\n",
        "y_pred = clf_gird.predict(x_test)\n",
        "print(\"グリッドサーチの正解率 = \" , accuracy_score(y_test, y_pred))\n"
      ],
      "execution_count": null,
      "outputs": []
    },
    {
      "cell_type": "markdown",
      "metadata": {
        "id": "xmUwWIe5FGBX"
      },
      "source": [
        "### Numpyの動作確認"
      ]
    },
    {
      "cell_type": "code",
      "metadata": {
        "id": "mM8OePg4-PaC"
      },
      "source": [
        "# import\n",
        "import numpy as np"
      ],
      "execution_count": null,
      "outputs": []
    },
    {
      "cell_type": "code",
      "metadata": {
        "id": "NWnopDznFMs1"
      },
      "source": [
        "# numpy配列の初期化\n",
        "a = np.array([1,2,3,4,5]) # numpy配列オブジェクトを生成\n",
        "print(a)\n",
        "# 型を表示\n",
        "print(type(a))"
      ],
      "execution_count": null,
      "outputs": []
    },
    {
      "cell_type": "code",
      "metadata": {
        "id": "HyWEECDSFccy"
      },
      "source": [
        "# 二次元のndarrayを定義\n",
        "b = np.array([[1,2,3],[4,5,6]])\n",
        "print(b)"
      ],
      "execution_count": null,
      "outputs": []
    },
    {
      "cell_type": "code",
      "metadata": {
        "id": "uTBwTwgNF91j"
      },
      "source": [
        "# 配列の要素数を指定して０うめで初期化\n",
        "print(np.zeros(10))\n",
        "print(np.zeros((3,2)))\n",
        "print(np.ones(2))"
      ],
      "execution_count": null,
      "outputs": []
    },
    {
      "cell_type": "code",
      "metadata": {
        "id": "4i4myhiXGLpQ"
      },
      "source": [
        "# 配連番の配列を要素数を指定して初期化\n",
        "print(np.arange(5))\n",
        "print(np.arange(2,9))\n",
        "print(np.arange(5,8,0.5))"
      ],
      "execution_count": null,
      "outputs": []
    },
    {
      "cell_type": "code",
      "metadata": {
        "id": "jVIzg-oiHPkW"
      },
      "source": [
        "# numpyで行列計算\n",
        "a = np.array([1,2,3,4,5])\n",
        "b = a*2\n",
        "print(b)\n",
        "x = np.arange(10)\n",
        "print(x)\n",
        "y = 3*x + 5\n",
        "print(y)"
      ],
      "execution_count": null,
      "outputs": []
    },
    {
      "cell_type": "code",
      "metadata": {
        "id": "_-PEXLHKH7S0"
      },
      "source": [
        " a = np.array([[1,2,3],[4,5,6]])\n",
        " print(a)\n",
        " print(a.shape)\n",
        "\n",
        " b = np.array([[1,2,3],[4,5,6],[7,8,9]])\n",
        " print(b)\n",
        " print(b.shape)"
      ],
      "execution_count": null,
      "outputs": []
    },
    {
      "cell_type": "code",
      "metadata": {
        "id": "cWaSvqN4HjJ_"
      },
      "source": [
        "# Numpy配列で次元数を変換する\n",
        "a = np.array([[1,2,3],[4,5,6]])\n",
        "print(\"a=\", a)\n",
        "b = a.flatten()\n",
        "print(\"b=\", b)\n",
        "\n",
        "a = np.array([[1,2,3],[4,5,6]])\n",
        "print(a)\n",
        "b = a.reshape(3,2)\n",
        "print(b)"
      ],
      "execution_count": null,
      "outputs": []
    },
    {
      "cell_type": "markdown",
      "metadata": {
        "id": "7gfm-Fcw3xgX"
      },
      "source": [
        "### numpyの配列にアクセスする方法"
      ]
    },
    {
      "cell_type": "code",
      "metadata": {
        "id": "bPHqT23eInc9"
      },
      "source": [
        "v = np.array([[1,2,3],[4,5,6],[7,8,9]])\n",
        "a = v[0]\n",
        "print(a) # 二次元配列の０行目\n",
        "b = v[1:] #  一列目いこう\n",
        "print(b)\n",
        "c = v[:,0]\n",
        "print(c)\n"
      ],
      "execution_count": null,
      "outputs": []
    },
    {
      "cell_type": "code",
      "metadata": {
        "id": "Jh53rtTC3fsU"
      },
      "source": [
        ""
      ],
      "execution_count": null,
      "outputs": []
    }
  ]
}